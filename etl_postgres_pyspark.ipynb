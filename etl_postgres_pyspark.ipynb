{
 "cells": [
  {
   "cell_type": "code",
   "execution_count": 29,
   "id": "d974c0b8-4baf-448e-87a3-e38f8d8408da",
   "metadata": {},
   "outputs": [],
   "source": [
    "import pyspark"
   ]
  },
  {
   "cell_type": "code",
   "execution_count": 30,
   "id": "965d9bad-e613-4496-92ce-c51991dce829",
   "metadata": {},
   "outputs": [],
   "source": [
    "from pyspark.sql import SparkSession\n",
    "from pyspark.sql.types import * \n",
    "\n",
    "spark = SparkSession.builder \\\n",
    "        .master(\"local[*]\") \\\n",
    "        .appName(\"simple etl job\") \\\n",
    "        .getOrCreate()"
   ]
  },
  {
   "cell_type": "code",
   "execution_count": 31,
   "id": "099c00f6-fc89-4912-ba9b-fa368a7be298",
   "metadata": {},
   "outputs": [
    {
     "data": {
      "text/html": [
       "\n",
       "            <div>\n",
       "                <p><b>SparkSession - in-memory</b></p>\n",
       "                \n",
       "        <div>\n",
       "            <p><b>SparkContext</b></p>\n",
       "\n",
       "            <p><a href=\"http://183c260547eb:4040\">Spark UI</a></p>\n",
       "\n",
       "            <dl>\n",
       "              <dt>Version</dt>\n",
       "                <dd><code>v3.5.0</code></dd>\n",
       "              <dt>Master</dt>\n",
       "                <dd><code>local[*]</code></dd>\n",
       "              <dt>AppName</dt>\n",
       "                <dd><code>simple etl job</code></dd>\n",
       "            </dl>\n",
       "        </div>\n",
       "        \n",
       "            </div>\n",
       "        "
      ],
      "text/plain": [
       "<pyspark.sql.session.SparkSession at 0x7f7de88bba90>"
      ]
     },
     "execution_count": 31,
     "metadata": {},
     "output_type": "execute_result"
    }
   ],
   "source": [
    "spark"
   ]
  },
  {
   "cell_type": "code",
   "execution_count": 32,
   "id": "d45dc05a-5a53-4562-b411-08c4a5c10a2b",
   "metadata": {},
   "outputs": [],
   "source": [
    "pathfile = \"/home/jovyan/spark/autos.csv\""
   ]
  },
  {
   "cell_type": "markdown",
   "id": "75212aba-6524-4ea8-b906-b869372ad07e",
   "metadata": {},
   "source": [
    "### **Connection to PostgreSQL**"
   ]
  },
  {
   "cell_type": "code",
   "execution_count": 33,
   "id": "715844cd-e2cb-4837-9531-b2488ef8fe0a",
   "metadata": {},
   "outputs": [
    {
     "name": "stdout",
     "output_type": "stream",
     "text": [
      "('Connection to postgres successful!',)\n"
     ]
    }
   ],
   "source": [
    "import os\n",
    "import psycopg2\n",
    "from dotenv import load_dotenv\n",
    "\n",
    "load_dotenv()  # Required to load the previously defined environment variables\n",
    "\n",
    "# Create connection to postgres\n",
    "connection = psycopg2.connect(host=os.environ.get('PG_HOST'),\n",
    "                        port=os.environ.get('PG_PORT'),\n",
    "                        user=os.environ.get('PG_USER'),\n",
    "                        password=os.environ.get('PG_PASSWORD'),\n",
    "                        dbname=os.environ.get('PG_DATABASE'),\n",
    "                        sslmode='require')\n",
    "connection.autocommit = True  # Ensure data is added to the database immediately after write commands\n",
    "cursor = connection.cursor()\n",
    "cursor.execute('SELECT %s as connected;', ('Connection to postgres successful!',))\n",
    "print(cursor.fetchone())"
   ]
  },
  {
   "cell_type": "code",
   "execution_count": 43,
   "id": "13d3a8e5-2481-4c31-92a6-bc345aeec2ad",
   "metadata": {},
   "outputs": [],
   "source": [
    "schema = StructType([\n",
    "        StructField(\"dateCrawled\", TimestampType(), True),\n",
    "        StructField(\"name\", StringType(), True),\n",
    "        StructField(\"seller\", StringType(), True),\n",
    "        StructField(\"offerType\", StringType(), True),\n",
    "        StructField(\"price\", LongType(), True),\n",
    "        StructField(\"abtest\", StringType(), True),\n",
    "        StructField(\"vehicleType\", StringType(), True),\n",
    "        StructField(\"yearOfRegistration\", StringType(), True),\n",
    "        StructField(\"gearbox\", StringType(), True),\n",
    "        StructField(\"powerPS\", ShortType(), True),\n",
    "        StructField(\"model\", StringType(), True),\n",
    "        StructField(\"kilometer\", LongType(), True),\n",
    "        StructField(\"monthOfRegistration\", StringType(), True),\n",
    "        StructField(\"fuelType\", StringType(), True),\n",
    "        StructField(\"brand\", StringType(), True),\n",
    "        StructField(\"notRepairedDamage\", StringType(), True),\n",
    "        StructField(\"dateCreated\", DateType(), True),\n",
    "        StructField(\"nrOfPictures\", ShortType(), True),\n",
    "        StructField(\"postalCode\", StringType(), True),\n",
    "        StructField(\"lastSeen\", TimestampType(), True),\n",
    "        StructField(\"yearOfCreation\", TimestampType(), True),\n",
    "        StructField(\"yearCrawled\", TimestampType(), True),\n",
    "        StructField(\"monthOfCreation\", TimestampType(), True),\n",
    "        StructField(\"monthCrawled\", TimestampType(), True),\n",
    "        StructField(\"NoOfDaysOnline\", IntegerType(), True),\n",
    "        StructField(\"NoOfHrsOnline\", TimestampType(), True),\n",
    "        StructField(\"yearsOld\", IntegerType(), True),\n",
    "        StructField(\"monthsOld\", TimestampType(), True)\n",
    "    ])"
   ]
  },
  {
   "cell_type": "markdown",
   "id": "de9d6797-936c-495f-9ab7-e73b49ffa459",
   "metadata": {},
   "source": [
    "### **Extract**"
   ]
  },
  {
   "cell_type": "code",
   "execution_count": 44,
   "id": "64040f00-ee0c-4f24-9f8d-f637871665b9",
   "metadata": {},
   "outputs": [],
   "source": [
    "#we load the dataset\n",
    "sdf = spark.read.format(\"csv\").schema(schema).option(\"header\", \"true\").load(pathfile)"
   ]
  },
  {
   "cell_type": "markdown",
   "id": "6013da49-6940-47e2-bfbc-4ae990081d7c",
   "metadata": {},
   "source": [
    "### **Transform**"
   ]
  },
  {
   "cell_type": "code",
   "execution_count": 45,
   "id": "ef0e2b2f-ddef-41fe-bfb7-b210efeb7f53",
   "metadata": {},
   "outputs": [],
   "source": [
    "#clean dataset\n",
    "sdf_filtered = sdf.drop(\"dateCrawled\",\"nrOfPictures\",\"lastSeen\",\"seller\", \"offerType\",\"yearOfCreation\",\\\n",
    "                        \"yearCrawled\", \"monthOfCreation\",\"NoOfDaysOnline\",\"NoOfHrsOnline\",\"yearsOld\",\"monthsOld\",\"monthCrawled\")"
   ]
  },
  {
   "cell_type": "code",
   "execution_count": 46,
   "id": "311f50a6-a9aa-4e27-b73d-97c7c8695e04",
   "metadata": {},
   "outputs": [],
   "source": [
    "sdf_filtered = sdf_filtered.na.drop(\"any\")"
   ]
  },
  {
   "cell_type": "code",
   "execution_count": 47,
   "id": "707482cb-503c-45dc-b224-3d9b67be3c7e",
   "metadata": {},
   "outputs": [
    {
     "name": "stdout",
     "output_type": "stream",
     "text": [
      "root\n",
      " |-- name: string (nullable = true)\n",
      " |-- price: long (nullable = true)\n",
      " |-- abtest: string (nullable = true)\n",
      " |-- vehicleType: string (nullable = true)\n",
      " |-- yearOfRegistration: string (nullable = true)\n",
      " |-- gearbox: string (nullable = true)\n",
      " |-- powerPS: short (nullable = true)\n",
      " |-- model: string (nullable = true)\n",
      " |-- kilometer: long (nullable = true)\n",
      " |-- monthOfRegistration: string (nullable = true)\n",
      " |-- fuelType: string (nullable = true)\n",
      " |-- brand: string (nullable = true)\n",
      " |-- notRepairedDamage: string (nullable = true)\n",
      " |-- dateCreated: date (nullable = true)\n",
      " |-- postalCode: string (nullable = true)\n",
      "\n"
     ]
    }
   ],
   "source": [
    "sdf_filtered.printSchema()"
   ]
  },
  {
   "cell_type": "code",
   "execution_count": 24,
   "id": "944fa9d5-b9cb-4b3a-a24e-318fef81e7d5",
   "metadata": {},
   "outputs": [],
   "source": [
    "createTableQuery = \"\"\"\n",
    "    CREATE TABLE IF NOT EXISTS cars_table \n",
    "    (   name VARCHAR(255) NOT NULL, \n",
    "        price integer NOT NULL,\n",
    "        abtest VARCHAR(255) NOT NULL, \n",
    "        vehicleType VARCHAR(255), \n",
    "        yearOfRegistration VARCHAR(4) NOT NULL, \n",
    "        gearbox VARCHAR(255), \n",
    "        powerPS integer NOT NULL,\n",
    "        model VARCHAR(255), \n",
    "        kilometer integer, \n",
    "        monthOfRegistration VARCHAR(255) NOT NULL,\n",
    "        fuelType VARCHAR(255), \n",
    "        brand VARCHAR(255) NOT NULL, \n",
    "        notRepairedDamage VARCHAR(255), \n",
    "        dateCreated DATE NOT NULL, \n",
    "        postalCode VARCHAR(255) NOT NULL);\n",
    "  \"\"\""
   ]
  },
  {
   "cell_type": "code",
   "execution_count": 25,
   "id": "2402602b-d06e-480c-91ce-69edaed90216",
   "metadata": {},
   "outputs": [],
   "source": [
    "cursor.execute(createTableQuery)"
   ]
  },
  {
   "cell_type": "code",
   "execution_count": 48,
   "id": "e04bb2e3-7fc8-4c36-902c-0ee59b5f2195",
   "metadata": {},
   "outputs": [
    {
     "data": {
      "text/plain": [
       "[]"
      ]
     },
     "execution_count": 48,
     "metadata": {},
     "output_type": "execute_result"
    }
   ],
   "source": [
    "#read data\n",
    "readDataQuery = 'SELECT * FROM cars_table;'\n",
    "cursor.execute(readDataQuery)\n",
    "cursor.fetchall()"
   ]
  },
  {
   "cell_type": "code",
   "execution_count": 40,
   "id": "df947cee-87f6-462c-9695-623f795b99d0",
   "metadata": {},
   "outputs": [],
   "source": [
    "#After creating the table, it’s now ready to be populated with our dataset\n",
    "#we load our dataframe into csv file\n",
    "# Other CSV options\n",
    "sdf_filtered.write.options(header='True', delimiter=',') \\\n",
    " .csv(\"/home/jovyan/spark/autos_filtered.csv\")"
   ]
  },
  {
   "cell_type": "code",
   "execution_count": 41,
   "id": "e57da181-f29b-4750-b81a-cd172ba3fc6b",
   "metadata": {},
   "outputs": [],
   "source": [
    "pathfile_filtered = \"/home/jovyan/spark/autos_filtered_1.csv\""
   ]
  },
  {
   "cell_type": "markdown",
   "id": "571b9714-30a7-4add-8251-ebf173fe1e9a",
   "metadata": {},
   "source": [
    "### **Load**"
   ]
  },
  {
   "cell_type": "code",
   "execution_count": 50,
   "id": "0029ffdd-d3f4-4512-860b-c179f052a98a",
   "metadata": {},
   "outputs": [],
   "source": [
    "#load data into postgresql\n",
    "import csv\n",
    "cursor = connection.cursor()\n",
    "with open(pathfile_filtered) as csvFile:\n",
    "   next(csvFile) # SKIP HEADERS\n",
    "   cursor.copy_from(csvFile, \"cars_table\", sep=\",\")\n",
    "connection.commit()\n",
    "connection.close()\n"
   ]
  },
  {
   "cell_type": "code",
   "execution_count": null,
   "id": "8866b202-7b0e-4e65-8417-913e44de9b0e",
   "metadata": {},
   "outputs": [],
   "source": []
  }
 ],
 "metadata": {
  "kernelspec": {
   "display_name": "Python 3 (ipykernel)",
   "language": "python",
   "name": "python3"
  },
  "language_info": {
   "codemirror_mode": {
    "name": "ipython",
    "version": 3
   },
   "file_extension": ".py",
   "mimetype": "text/x-python",
   "name": "python",
   "nbconvert_exporter": "python",
   "pygments_lexer": "ipython3",
   "version": "3.11.6"
  }
 },
 "nbformat": 4,
 "nbformat_minor": 5
}
